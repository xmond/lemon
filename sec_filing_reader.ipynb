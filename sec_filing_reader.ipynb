{
  "nbformat": 4,
  "nbformat_minor": 0,
  "metadata": {
    "colab": {
      "provenance": [],
      "machine_shape": "hm",
      "gpuType": "A100",
      "name": "sec-filing-reader.ipynb",
      "include_colab_link": true
    },
    "kernelspec": {
      "name": "python3",
      "display_name": "Python 3"
    },
    "language_info": {
      "name": "python"
    },
    "accelerator": "GPU"
  },
  "cells": [
    {
      "cell_type": "markdown",
      "metadata": {
        "id": "view-in-github",
        "colab_type": "text"
      },
      "source": [
        "<a href=\"https://colab.research.google.com/github/xmond/lemon/blob/master/sec_filing_reader.ipynb\" target=\"_parent\"><img src=\"https://colab.research.google.com/assets/colab-badge.svg\" alt=\"Open In Colab\"/></a>"
      ]
    },
    {
      "cell_type": "markdown",
      "source": [
        "# Download and store SEC filing in vector DB"
      ],
      "metadata": {
        "id": "eVJ5yDD8O-UU"
      }
    },
    {
      "cell_type": "code",
      "source": [
        "!pip install -U -q langchain openai chromadb unstructured==0.12.5 instructor tiktoken"
      ],
      "metadata": {
        "id": "3ZY3GNT4PCA9"
      },
      "execution_count": null,
      "outputs": []
    },
    {
      "cell_type": "markdown",
      "source": [
        "# Download 10-K from SEC"
      ],
      "metadata": {
        "id": "_AzT4E1GNRze"
      }
    },
    {
      "cell_type": "code",
      "source": [
        "from langchain_community.document_loaders import UnstructuredURLLoader\n",
        "\n",
        "url = \"https://www.sec.gov/Archives/edgar/data/1559720/000155972024000006/abnb-20231231.htm\"\n",
        "loader = UnstructuredURLLoader(urls=[url], headers={'User-Agent': 'your-org your@org.com'})\n",
        "documents = loader.load()"
      ],
      "metadata": {
        "id": "Uq07bTnztiI1"
      },
      "execution_count": null,
      "outputs": []
    },
    {
      "cell_type": "markdown",
      "source": [
        "# Chunk and store 10-K in vector DB"
      ],
      "metadata": {
        "id": "1YnN8QbANVyM"
      }
    },
    {
      "cell_type": "code",
      "source": [
        "import getpass\n",
        "import os\n",
        "\n",
        "# Set your OpenAI API key\n",
        "os.environ[\"OPENAI_API_KEY\"] = getpass.getpass()"
      ],
      "metadata": {
        "id": "PL3cB_KFP_PC"
      },
      "execution_count": null,
      "outputs": []
    },
    {
      "cell_type": "code",
      "source": [
        "from langchain.vectorstores import Chroma\n",
        "from langchain.embeddings import OpenAIEmbeddings\n",
        "from langchain.text_splitter import TokenTextSplitter\n",
        "\n",
        "# Naively chunk the SEC filing by tokens\n",
        "token_splitter = TokenTextSplitter(chunk_size=256, chunk_overlap=20)\n",
        "docs = token_splitter.split_documents(documents)"
      ],
      "metadata": {
        "id": "Sm9ShQJZAc6J"
      },
      "execution_count": null,
      "outputs": []
    },
    {
      "cell_type": "code",
      "source": [
        "# Save the chunked docs in vector DB\n",
        "vectorstore = Chroma.from_documents(docs, OpenAIEmbeddings(model=\"text-embedding-3-large\"))"
      ],
      "metadata": {
        "id": "kgoOSs6DAmuP"
      },
      "execution_count": null,
      "outputs": []
    },
    {
      "cell_type": "markdown",
      "source": [
        "# Query vector DB for contextual documents"
      ],
      "metadata": {
        "id": "Nfa_CjwFNZdT"
      }
    },
    {
      "cell_type": "code",
      "source": [
        "query = \"What was Airbnb's revenue, net income, and cost of revenue?\""
      ],
      "metadata": {
        "id": "l_hz2EdXEile"
      },
      "execution_count": null,
      "outputs": []
    },
    {
      "cell_type": "code",
      "source": [
        "# Get documents from the vector DB\n",
        "k = 1\n",
        "top_k_docs = vectorstore.similarity_search(query, k)\n",
        "context = \"\\n\".join([doc.page_content for doc in top_k_docs])"
      ],
      "metadata": {
        "id": "mtyucrp2FGbb"
      },
      "execution_count": null,
      "outputs": []
    },
    {
      "cell_type": "code",
      "source": [
        "context"
      ],
      "metadata": {
        "colab": {
          "base_uri": "https://localhost:8080/",
          "height": 125
        },
        "id": "rZx5IkAoQ1jw",
        "outputId": "bc98d47c-4c57-42ad-9377-17a1bb9f1fbc"
      },
      "execution_count": null,
      "outputs": [
        {
          "output_type": "execute_result",
          "data": {
            "text/plain": [
              "' $ 20,645\\n\\nThe accompanying notes are an integral part of these consolidated financial statements.\\n\\n67\\n\\nTable of Contents\\n\\nAirbnb, Inc.\\n\\nConsolidated Statements of Operations\\n\\n(in millions, except per share amounts)\\n\\nYear Ended December 31, 2021 2022 2023 Revenue $ 5,992 $ 8,399 $ 9,917 Costs and expenses: Cost of revenue 1,156 1,499 1,703 Operations and support 847 1,041 1,186 Product development 1,425 1,502 1,722 Sales and marketing 1,186 1,516 1,763 General and administrative 836 950 2,025 Restructuring charges 113 89 — Total costs and expenses 5,563 6,597 8,399 Income from operations 429 1,802 1,518 Interest income 13 186 721 Interest expense ( 438 ) ( 24 ) ( 83 ) Other income (expense), net ( 304 ) 25 ( 54 ) Income (loss) before income taxes ( 300 ) 1,989 2,102 Provision for (benefit from) income taxes 52 96 ( 2,690 ) Net income (loss) $ ( 352 ) $ 1,893 $ 4,792 Net income (loss) per share attributable'"
            ],
            "application/vnd.google.colaboratory.intrinsic+json": {
              "type": "string"
            }
          },
          "metadata": {},
          "execution_count": 13
        }
      ]
    },
    {
      "cell_type": "markdown",
      "source": [
        "# Define output schema using Instructor"
      ],
      "metadata": {
        "id": "cODNiDLpQdCA"
      }
    },
    {
      "cell_type": "code",
      "source": [
        "import instructor\n",
        "from openai import OpenAI\n",
        "from pydantic import BaseModel\n",
        "from pydantic import Field\n",
        "from enum import Enum\n",
        "from typing import Optional, Union, List\n",
        "\n",
        "class UnitSuffix(str, Enum):\n",
        "    billion = 'Billion'\n",
        "    million = 'Million'\n",
        "    thousand = 'Thousand'\n",
        "    unknown = ''\n",
        "\n",
        "class FiscalPeriod(str, Enum):\n",
        "    fy_2023 = 'FY2023'\n",
        "    fy_2022 = 'FY2022'\n",
        "    fy_2021 = 'FY2021'\n",
        "    fy_2020 = 'FY2020'\n",
        "    unknown = ''\n",
        "\n",
        "# Define our income statement\n",
        "class IncomeStatement(BaseModel):\n",
        "  period: Optional[FiscalPeriod]\n",
        "\n",
        "  revenue: Union[float, str] = Field(description=\"Revenue\")\n",
        "  revenue_unit: Optional[UnitSuffix]\n",
        "\n",
        "  cost_of_revenue: Union[float, str] = Field(description=\"Cost of revenue\")\n",
        "  cost_of_revenue_unit: Optional[UnitSuffix]\n",
        "\n",
        "  income_from_operations: Union[float, str] = Field(description=\"Income from operations\")\n",
        "  income_from_operations_unit: Optional[UnitSuffix]\n",
        "\n",
        "  operations_and_support: Union[float, str] = Field(description=\"Operations and support\")\n",
        "  operations_and_support_unit: Optional[UnitSuffix]\n",
        "\n",
        "  product_development: Union[float, str] = Field(description=\"Product development\")\n",
        "  product_development_unit: Optional[UnitSuffix]\n",
        "\n",
        "  sales_and_marketing: Union[float, str] = Field(description=\"Sales and marketing\")\n",
        "  sales_and_marketing_unit: Optional[UnitSuffix]\n",
        "\n",
        "  general_and_administrative: Union[float, str] = Field(description=\"General and administrative\")\n",
        "  general_and_administrative_unit: Optional[UnitSuffix]\n",
        "\n",
        "  interest_income: Union[float, str] = Field(description=\"Interest income\")\n",
        "  interest_income_unit: Optional[UnitSuffix]\n",
        "\n",
        "  interest_expense: Union[float, str] = Field(description=\"Interest expense\")\n",
        "  interest_expense_unit: Optional[UnitSuffix]\n",
        "\n",
        "  other_income: Union[float, str] = Field(description=\"Other income\")\n",
        "  other_income_unit: Optional[UnitSuffix]\n",
        "\n",
        "  net_income: Union[float, str] = Field(description=\"Net income\")\n",
        "  net_income_unit: Optional[UnitSuffix]\n",
        "\n",
        "\n",
        "class Financials(BaseModel):\n",
        "  ticker: str\n",
        "  income_statements: List[IncomeStatement]"
      ],
      "metadata": {
        "id": "F8Opn4FIQcB8"
      },
      "execution_count": null,
      "outputs": []
    },
    {
      "cell_type": "markdown",
      "source": [
        "# Download Mistral-7B from HuggingFace"
      ],
      "metadata": {
        "id": "6rhckgERqw_L"
      }
    },
    {
      "cell_type": "code",
      "source": [
        "!pip install -U -q llama-cpp-python huggingface-hub"
      ],
      "metadata": {
        "id": "Ezv6yNvEeXmN"
      },
      "execution_count": null,
      "outputs": []
    },
    {
      "cell_type": "code",
      "source": [
        "import llama_cpp\n",
        "from llama_cpp import Llama\n",
        "from llama_cpp.llama_speculative import LlamaPromptLookupDecoding\n",
        "\n",
        "import instructor\n",
        "\n",
        "from pydantic import BaseModel\n",
        "from typing import List\n",
        "from rich.console import Console\n",
        "from huggingface_hub import hf_hub_download\n",
        "\n",
        "# mixtral_path = \"TheBloke/Mixtral-8x7B-v0.1-GGUF\"\n",
        "# mixtral_q4_basename = \"mixtral-8x7b-v0.1.Q4_K_M.gguf\"\n",
        "\n",
        "mistral_path = \"TheBloke/Mistral-7B-Instruct-v0.2-GGUF\"\n",
        "\n",
        "mistral_q4_basename = \"mistral-7b-instruct-v0.2.Q4_K_M.gguf\"\n",
        "\n",
        "model_path = hf_hub_download(repo_id=mistral_path, filename=mistral_q4_basename)\n",
        "\n",
        "llm = Llama(\n",
        "    model_path=model_path,\n",
        "    n_gpu_layers=--1, # The number of layers to put on the GPU. The rest will be on the CPU. If you don't know how many layers there are, you can use -1 to move all\n",
        "    n_batch = 2048, # Should be between 1 and n_ctx, consider the amount of VRAM in your GPU.\n",
        "    n_ctx=2048,\n",
        "    logits_all=False,\n",
        ")\n",
        "llm.verbose = False"
      ],
      "metadata": {
        "id": "JmIEJ4Bniotu"
      },
      "execution_count": null,
      "outputs": []
    },
    {
      "cell_type": "markdown",
      "source": [
        "# Use Mistral-7B + Instructor to read Financials"
      ],
      "metadata": {
        "id": "1w9_dHFECwos"
      }
    },
    {
      "cell_type": "code",
      "source": [
        "import time\n",
        "\n",
        "start = time.time()\n",
        "\n",
        "response = create(\n",
        "    response_model=instructor.Partial[Financials],\n",
        "    messages=[\n",
        "        {\n",
        "            \"role\": \"user\",\n",
        "            \"content\": f\"Extract Airbnb's income statement from 2023, 2022, and 2021 from following context: {context}\",\n",
        "        },\n",
        "    ],\n",
        ")\n",
        "print(f\"Took {time.time() - start} seconds to complete!\")\n",
        "print(response.model_dump_json(indent=2))"
      ],
      "metadata": {
        "colab": {
          "base_uri": "https://localhost:8080/"
        },
        "id": "ZrhBRaPGhw6-",
        "outputId": "d201fdde-7538-491c-d1d4-f5f86f958517"
      },
      "execution_count": null,
      "outputs": [
        {
          "output_type": "stream",
          "name": "stdout",
          "text": [
            "Took 119.98298811912537 seconds to complete!\n",
            "{\n",
            "  \"income_statements\": [\n",
            "    {\n",
            "      \"period\": \"FY2021\",\n",
            "      \"revenue\": 5992.0,\n",
            "      \"revenue_unit\": \"Million\",\n",
            "      \"cost_of_revenue\": 1156.0,\n",
            "      \"cost_of_revenue_unit\": \"Million\",\n",
            "      \"income_from_operations\": 429.0,\n",
            "      \"income_from_operations_unit\": \"Million\",\n",
            "      \"operations_and_support\": 847.0,\n",
            "      \"operations_and_support_unit\": \"Million\",\n",
            "      \"product_development\": 1425.0,\n",
            "      \"product_development_unit\": \"Million\",\n",
            "      \"sales_and_marketing\": 1186.0,\n",
            "      \"sales_and_marketing_unit\": \"Million\",\n",
            "      \"general_and_administrative\": 836.0,\n",
            "      \"general_and_administrative_unit\": \"Million\",\n",
            "      \"interest_income\": 13.0,\n",
            "      \"interest_income_unit\": \"Million\",\n",
            "      \"interest_expense\": -438.0,\n",
            "      \"interest_expense_unit\": \"Million\",\n",
            "      \"other_income\": -304.0,\n",
            "      \"other_income_unit\": \"Million\",\n",
            "      \"net_income\": -352.0,\n",
            "      \"net_income_unit\": \"Million\"\n",
            "    },\n",
            "    {\n",
            "      \"period\": \"FY2022\",\n",
            "      \"revenue\": 8399.0,\n",
            "      \"revenue_unit\": \"Million\",\n",
            "      \"cost_of_revenue\": 1499.0,\n",
            "      \"cost_of_revenue_unit\": \"Million\",\n",
            "      \"income_from_operations\": 1802.0,\n",
            "      \"income_from_operations_unit\": \"Million\",\n",
            "      \"operations_and_support\": 1041.0,\n",
            "      \"operations_and_support_unit\": \"Million\",\n",
            "      \"product_development\": 1502.0,\n",
            "      \"product_development_unit\": \"Million\",\n",
            "      \"sales_and_marketing\": 1516.0,\n",
            "      \"sales_and_marketing_unit\": \"Million\",\n",
            "      \"general_and_administrative\": 950.0,\n",
            "      \"general_and_administrative_unit\": \"Million\",\n",
            "      \"interest_income\": 186.0,\n",
            "      \"interest_income_unit\": \"Million\",\n",
            "      \"interest_expense\": -24.0,\n",
            "      \"interest_expense_unit\": \"Million\",\n",
            "      \"other_income\": 25.0,\n",
            "      \"other_income_unit\": \"Million\",\n",
            "      \"net_income\": 1893.0,\n",
            "      \"net_income_unit\": \"Million\"\n",
            "    },\n",
            "    {\n",
            "      \"period\": \"FY2023\",\n",
            "      \"revenue\": 9917.0,\n",
            "      \"revenue_unit\": \"Million\",\n",
            "      \"cost_of_revenue\": 1703.0,\n",
            "      \"cost_of_revenue_unit\": \"Million\",\n",
            "      \"income_from_operations\": 1518.0,\n",
            "      \"income_from_operations_unit\": \"Million\",\n",
            "      \"operations_and_support\": 1186.0,\n",
            "      \"operations_and_support_unit\": \"Million\",\n",
            "      \"product_development\": 1722.0,\n",
            "      \"product_development_unit\": \"Million\",\n",
            "      \"sales_and_marketing\": 1763.0,\n",
            "      \"sales_and_marketing_unit\": \"Million\",\n",
            "      \"general_and_administrative\": 2025.0,\n",
            "      \"general_and_administrative_unit\": \"Million\",\n",
            "      \"interest_income\": 721.0,\n",
            "      \"interest_income_unit\": \"Million\",\n",
            "      \"interest_expense\": -83.0,\n",
            "      \"interest_expense_unit\": \"Million\",\n",
            "      \"other_income\": -54.0,\n",
            "      \"other_income_unit\": \"Million\",\n",
            "      \"net_income\": 4792.0,\n",
            "      \"net_income_unit\": \"Million\"\n",
            "    }\n",
            "  ]\n",
            "}\n"
          ]
        }
      ]
    }
  ]
}